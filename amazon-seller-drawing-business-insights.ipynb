{
 "cells": [
  {
   "cell_type": "markdown",
   "metadata": {},
   "source": [
    "# <u>Order Details Analysis</u>"
   ]
  },
  {
   "cell_type": "markdown",
   "metadata": {},
   "source": [
    "## About\n",
    "Boss Leathers is a small leather products business which has recently started selling its products on Amazon. Currently, it has around 40 SKUs registered in the Indian Marketplace. Over the past few months, it has incurred some loss due to return orders. Now, Boss Leather seeks help to predict the liklihood of a new order being rejected. This would help them to take necessary actions and subsequently reduce the loss.\n",
    "\n",
    "## Objective\n",
    "To build a model which would predict the order status (`Delivered to buyer` or `Returned to seller`)\n",
    "\n",
    "## Data Dictionary\n",
    "The Order data is provided in an excel file. The columns are:\n",
    "Independent Features:\n",
    "   1. `order_no` - Unique Amazon Order Number\n",
    "   \n",
    "   2. `order_date` - Date on which the order was placed\n",
    "   \n",
    "   4. `buyer` - Name of the buyer\n",
    "   \n",
    "   3. `ship_city` - Delivery Address City\n",
    "   \n",
    "   4. `ship_state` - Delivery Address State\n",
    "   \n",
    "   5. `sku - Unique` identifier of a product\n",
    "   \n",
    "   6. `description` - Product description\n",
    "   \n",
    "   7. `quantity` - Number of units ordered\n",
    "   \n",
    "   8. `item_total` - Total amount paid by the buyer\n",
    "   \n",
    "   9. `shipping_fee` - Charges borne by Boss Leathers to ship the item\n",
    "   \n",
    "   10. `cod` - Mode of payment: Cash on delivery or not\n",
    "   \n",
    "Label / Target Feature:\n",
    "   1. `order_status` - Status of the order"
   ]
  },
  {
   "cell_type": "markdown",
   "metadata": {},
   "source": [
    "# Analysis Steps:\n",
    "   - Import libraries\n",
    "   - Understand the data\n",
    "   - Handle missing values\n",
    "   - Format Date Feature\n",
    "   - Visualize Business Insigths"
   ]
  },
  {
   "cell_type": "markdown",
   "metadata": {},
   "source": [
    "### Import Libraries"
   ]
  },
  {
   "cell_type": "code",
   "execution_count": null,
   "metadata": {
    "execution": {
     "iopub.execute_input": "2022-02-26T15:03:16.841710Z",
     "iopub.status.busy": "2022-02-26T15:03:16.841145Z",
     "iopub.status.idle": "2022-02-26T15:03:20.583804Z",
     "shell.execute_reply": "2022-02-26T15:03:20.583028Z",
     "shell.execute_reply.started": "2022-02-26T15:03:16.841610Z"
    }
   },
   "outputs": [],
   "source": [
    "import pandas as pd\n",
    "import numpy as np\n",
    "import matplotlib.pyplot as plt\n",
    "import seaborn as sns\n",
    "import warnings\n",
    "import plotly.express as px\n",
    "warnings.simplefilter('ignore')\n",
    "\n",
    "from wordcloud import WordCloud, STOPWORDS\n",
    "import nltk\n",
    "from nltk.stem import PorterStemmer, WordNetLemmatizer\n",
    "from nltk.corpus import stopwords\n",
    "from nltk.tokenize import word_tokenize, sent_tokenize\n",
    "import gensim\n",
    "from gensim.utils import simple_preprocess\n",
    "from gensim.parsing.preprocessing import STOPWORDS\n",
    "from nltk.corpus import stopwords\n",
    "\n",
    "%matplotlib inline"
   ]
  },
  {
   "cell_type": "code",
   "execution_count": null,
   "metadata": {
    "execution": {
     "iopub.execute_input": "2022-02-26T15:03:20.585736Z",
     "iopub.status.busy": "2022-02-26T15:03:20.585493Z",
     "iopub.status.idle": "2022-02-26T15:03:32.811149Z",
     "shell.execute_reply": "2022-02-26T15:03:32.809834Z",
     "shell.execute_reply.started": "2022-02-26T15:03:20.585700Z"
    }
   },
   "outputs": [],
   "source": [
    "!pip install openpyxl"
   ]
  },
  {
   "cell_type": "code",
   "execution_count": null,
   "metadata": {
    "execution": {
     "iopub.execute_input": "2022-02-26T15:03:32.813518Z",
     "iopub.status.busy": "2022-02-26T15:03:32.813250Z",
     "iopub.status.idle": "2022-02-26T15:03:33.160640Z",
     "shell.execute_reply": "2022-02-26T15:03:33.159417Z",
     "shell.execute_reply.started": "2022-02-26T15:03:32.813484Z"
    }
   },
   "outputs": [],
   "source": [
    "df = pd.read_excel('../input/amazon-seller-order-status-prediction/orders_data.xlsx')"
   ]
  },
  {
   "cell_type": "code",
   "execution_count": null,
   "metadata": {
    "execution": {
     "iopub.execute_input": "2022-02-26T15:03:33.163563Z",
     "iopub.status.busy": "2022-02-26T15:03:33.163291Z",
     "iopub.status.idle": "2022-02-26T15:03:33.172600Z",
     "shell.execute_reply": "2022-02-26T15:03:33.172024Z",
     "shell.execute_reply.started": "2022-02-26T15:03:33.163528Z"
    }
   },
   "outputs": [],
   "source": [
    "df.shape"
   ]
  },
  {
   "cell_type": "code",
   "execution_count": null,
   "metadata": {
    "execution": {
     "iopub.execute_input": "2022-02-26T15:03:33.173707Z",
     "iopub.status.busy": "2022-02-26T15:03:33.173504Z",
     "iopub.status.idle": "2022-02-26T15:03:33.183896Z",
     "shell.execute_reply": "2022-02-26T15:03:33.183194Z",
     "shell.execute_reply.started": "2022-02-26T15:03:33.173678Z"
    }
   },
   "outputs": [],
   "source": [
    "def drop(df, *features):\n",
    "    ''' To drop the features from a dataframe'''\n",
    "    for i in features:\n",
    "        df.drop(i, axis=1, inplace=True)"
   ]
  },
  {
   "cell_type": "code",
   "execution_count": null,
   "metadata": {
    "execution": {
     "iopub.execute_input": "2022-02-26T15:03:33.186700Z",
     "iopub.status.busy": "2022-02-26T15:03:33.186450Z",
     "iopub.status.idle": "2022-02-26T15:03:33.220288Z",
     "shell.execute_reply": "2022-02-26T15:03:33.219278Z",
     "shell.execute_reply.started": "2022-02-26T15:03:33.186665Z"
    }
   },
   "outputs": [],
   "source": [
    "df.info()"
   ]
  },
  {
   "cell_type": "code",
   "execution_count": null,
   "metadata": {
    "execution": {
     "iopub.execute_input": "2022-02-26T15:03:33.222190Z",
     "iopub.status.busy": "2022-02-26T15:03:33.221897Z",
     "iopub.status.idle": "2022-02-26T15:03:33.244757Z",
     "shell.execute_reply": "2022-02-26T15:03:33.244151Z",
     "shell.execute_reply.started": "2022-02-26T15:03:33.222157Z"
    }
   },
   "outputs": [],
   "source": [
    "df.head(3)"
   ]
  },
  {
   "cell_type": "code",
   "execution_count": null,
   "metadata": {
    "execution": {
     "iopub.execute_input": "2022-02-26T15:03:33.246617Z",
     "iopub.status.busy": "2022-02-26T15:03:33.246042Z",
     "iopub.status.idle": "2022-02-26T15:03:33.253481Z",
     "shell.execute_reply": "2022-02-26T15:03:33.252406Z",
     "shell.execute_reply.started": "2022-02-26T15:03:33.246582Z"
    }
   },
   "outputs": [],
   "source": [
    "# Convert city and state into uppercase\n",
    "places = ['ship_city', 'ship_state']\n",
    "for i in places:\n",
    "    df[i] = df[i].apply(lambda x: x.upper())"
   ]
  },
  {
   "cell_type": "code",
   "execution_count": null,
   "metadata": {
    "execution": {
     "iopub.execute_input": "2022-02-26T15:03:33.255477Z",
     "iopub.status.busy": "2022-02-26T15:03:33.255033Z",
     "iopub.status.idle": "2022-02-26T15:03:33.268284Z",
     "shell.execute_reply": "2022-02-26T15:03:33.267354Z",
     "shell.execute_reply.started": "2022-02-26T15:03:33.255440Z"
    }
   },
   "outputs": [],
   "source": [
    "# removing comma from city values\n",
    "df['ship_city'] = df['ship_city'].apply(lambda x: x.replace(',', ''))\n",
    "df['ship_state'] = df['ship_state'].apply(lambda x: x.replace(',', ''))"
   ]
  },
  {
   "cell_type": "code",
   "execution_count": null,
   "metadata": {
    "execution": {
     "iopub.execute_input": "2022-02-26T15:03:33.272182Z",
     "iopub.status.busy": "2022-02-26T15:03:33.271139Z",
     "iopub.status.idle": "2022-02-26T15:03:33.286701Z",
     "shell.execute_reply": "2022-02-26T15:03:33.286067Z",
     "shell.execute_reply.started": "2022-02-26T15:03:33.272119Z"
    }
   },
   "outputs": [],
   "source": [
    "df.isnull().sum()"
   ]
  },
  {
   "cell_type": "markdown",
   "metadata": {},
   "source": [
    "### Handle Missing Values\n",
    "There are 3 features with missing values: cod, item_total and shipping fee"
   ]
  },
  {
   "cell_type": "code",
   "execution_count": null,
   "metadata": {
    "execution": {
     "iopub.execute_input": "2022-02-26T15:03:33.288855Z",
     "iopub.status.busy": "2022-02-26T15:03:33.287826Z",
     "iopub.status.idle": "2022-02-26T15:03:33.298137Z",
     "shell.execute_reply": "2022-02-26T15:03:33.297396Z",
     "shell.execute_reply.started": "2022-02-26T15:03:33.288817Z"
    }
   },
   "outputs": [],
   "source": [
    "# imputing with mode as shipping fee is fixed based on package size and weight\n",
    "df['shipping_fee'].fillna(df['shipping_fee'].mode()[0], inplace=True)\n",
    "\n",
    "# imputing with mode as we are considering the item that is sold the most\n",
    "df['item_total'].fillna(df['item_total'].mode()[0], inplace=True)\n",
    "\n",
    "# assuming if an order is not cod would mean the mode of payment is online\n",
    "df['cod'].fillna('online', inplace=True)"
   ]
  },
  {
   "cell_type": "code",
   "execution_count": null,
   "metadata": {
    "execution": {
     "iopub.execute_input": "2022-02-26T15:03:33.300144Z",
     "iopub.status.busy": "2022-02-26T15:03:33.299846Z",
     "iopub.status.idle": "2022-02-26T15:03:33.309785Z",
     "shell.execute_reply": "2022-02-26T15:03:33.308683Z",
     "shell.execute_reply.started": "2022-02-26T15:03:33.300105Z"
    }
   },
   "outputs": [],
   "source": [
    "# remove rupee symbol from amount features\n",
    "amounts = ['item_total', 'shipping_fee']\n",
    "for i in amounts:\n",
    "    df[i] = df[i].apply(lambda x: x.replace(',', ''))        # remove the commas in amounts greater than 1000\n",
    "    df[i] = df[i].apply(lambda x: x[1:])"
   ]
  },
  {
   "cell_type": "code",
   "execution_count": null,
   "metadata": {
    "execution": {
     "iopub.execute_input": "2022-02-26T15:03:33.311876Z",
     "iopub.status.busy": "2022-02-26T15:03:33.310855Z",
     "iopub.status.idle": "2022-02-26T15:03:33.323453Z",
     "shell.execute_reply": "2022-02-26T15:03:33.321836Z",
     "shell.execute_reply.started": "2022-02-26T15:03:33.311837Z"
    }
   },
   "outputs": [],
   "source": [
    "# change data types\n",
    "i = 'int64'\n",
    "f = 'float64'\n",
    "df = df.astype({'item_total': f, 'shipping_fee': f, 'quantity': i})"
   ]
  },
  {
   "cell_type": "code",
   "execution_count": null,
   "metadata": {
    "execution": {
     "iopub.execute_input": "2022-02-26T15:03:33.325272Z",
     "iopub.status.busy": "2022-02-26T15:03:33.324852Z",
     "iopub.status.idle": "2022-02-26T15:03:33.348996Z",
     "shell.execute_reply": "2022-02-26T15:03:33.348364Z",
     "shell.execute_reply.started": "2022-02-26T15:03:33.325226Z"
    }
   },
   "outputs": [],
   "source": [
    "df.head(3)"
   ]
  },
  {
   "cell_type": "markdown",
   "metadata": {},
   "source": [
    "## <u>Drawing Business Insights:</u>\n",
    "\n",
    "We will try to answer few questions:\n",
    "   - Is order success dependant on mode of payment?\n",
    "   - Sales Trend (Sales Pattern over the period)\n",
    "   - Which days of the week draw more sales?\n",
    "   - People from which states are ordering the most\n",
    "   - Which are the top sold products?\n",
    "   - What percentage of orders have been returned?\n",
    "   - Most popular keywords among the customers"
   ]
  },
  {
   "cell_type": "markdown",
   "metadata": {},
   "source": [
    "### cod distribution"
   ]
  },
  {
   "cell_type": "code",
   "execution_count": null,
   "metadata": {
    "execution": {
     "iopub.execute_input": "2022-02-26T15:03:33.350641Z",
     "iopub.status.busy": "2022-02-26T15:03:33.350265Z",
     "iopub.status.idle": "2022-02-26T15:03:33.376961Z",
     "shell.execute_reply": "2022-02-26T15:03:33.376217Z",
     "shell.execute_reply.started": "2022-02-26T15:03:33.350610Z"
    }
   },
   "outputs": [],
   "source": [
    "df[['cod', 'order_status', 'item_total']].groupby(['cod', 'order_status']).sum().reset_index()"
   ]
  },
  {
   "cell_type": "code",
   "execution_count": null,
   "metadata": {
    "execution": {
     "iopub.execute_input": "2022-02-26T15:03:33.379215Z",
     "iopub.status.busy": "2022-02-26T15:03:33.378202Z",
     "iopub.status.idle": "2022-02-26T15:03:34.502689Z",
     "shell.execute_reply": "2022-02-26T15:03:34.501873Z",
     "shell.execute_reply.started": "2022-02-26T15:03:33.379166Z"
    }
   },
   "outputs": [],
   "source": [
    "fig = px.histogram(df, x=\"cod\", y=\"item_total\", color='order_status', barmode='group', height=400)\n",
    "fig.show()"
   ]
  },
  {
   "cell_type": "markdown",
   "metadata": {},
   "source": [
    "We see that most of the orders were prepaid and the percentage of return orders is more in cod mode."
   ]
  },
  {
   "cell_type": "markdown",
   "metadata": {},
   "source": [
    "### Format date"
   ]
  },
  {
   "cell_type": "code",
   "execution_count": null,
   "metadata": {
    "execution": {
     "iopub.execute_input": "2022-02-26T15:03:34.504724Z",
     "iopub.status.busy": "2022-02-26T15:03:34.503812Z",
     "iopub.status.idle": "2022-02-26T15:03:34.652496Z",
     "shell.execute_reply": "2022-02-26T15:03:34.651068Z",
     "shell.execute_reply.started": "2022-02-26T15:03:34.504689Z"
    }
   },
   "outputs": [],
   "source": [
    "# extract year, month, day and time from date feature\n",
    "df['year'] = pd.DatetimeIndex(df['order_date']).year\n",
    "df['date'] = pd.DatetimeIndex(df['order_date']).date\n",
    "df['time'] = pd.DatetimeIndex(df['order_date']).time\n",
    "df['month_name'] = pd.DatetimeIndex(df['date']).month_name()\n",
    "df['day_name'] = pd.DatetimeIndex(df['date']).day_name()"
   ]
  },
  {
   "cell_type": "code",
   "execution_count": null,
   "metadata": {
    "execution": {
     "iopub.execute_input": "2022-02-26T15:03:34.654383Z",
     "iopub.status.busy": "2022-02-26T15:03:34.654124Z",
     "iopub.status.idle": "2022-02-26T15:03:34.678816Z",
     "shell.execute_reply": "2022-02-26T15:03:34.677361Z",
     "shell.execute_reply.started": "2022-02-26T15:03:34.654348Z"
    }
   },
   "outputs": [],
   "source": [
    "drop(df, 'order_date')\n",
    "df.head(2)"
   ]
  },
  {
   "cell_type": "code",
   "execution_count": null,
   "metadata": {
    "execution": {
     "iopub.execute_input": "2022-02-26T15:03:34.680991Z",
     "iopub.status.busy": "2022-02-26T15:03:34.680261Z",
     "iopub.status.idle": "2022-02-26T15:03:34.707926Z",
     "shell.execute_reply": "2022-02-26T15:03:34.707107Z",
     "shell.execute_reply.started": "2022-02-26T15:03:34.680945Z"
    }
   },
   "outputs": [],
   "source": [
    "# Extracting the unique identifier\n",
    "df['sku'] = df['sku'].apply(lambda x: x[4:])\n",
    "df.head(2)"
   ]
  },
  {
   "cell_type": "code",
   "execution_count": null,
   "metadata": {
    "execution": {
     "iopub.execute_input": "2022-02-26T15:03:34.709569Z",
     "iopub.status.busy": "2022-02-26T15:03:34.709336Z",
     "iopub.status.idle": "2022-02-26T15:03:34.728872Z",
     "shell.execute_reply": "2022-02-26T15:03:34.728091Z",
     "shell.execute_reply.started": "2022-02-26T15:03:34.709538Z"
    }
   },
   "outputs": [],
   "source": [
    "df_sales = df[['date', 'item_total']].groupby('date').sum().reset_index()\n",
    "df_sales.head(3)"
   ]
  },
  {
   "cell_type": "code",
   "execution_count": null,
   "metadata": {
    "execution": {
     "iopub.execute_input": "2022-02-26T15:03:34.730763Z",
     "iopub.status.busy": "2022-02-26T15:03:34.729934Z",
     "iopub.status.idle": "2022-02-26T15:03:35.128465Z",
     "shell.execute_reply": "2022-02-26T15:03:35.127786Z",
     "shell.execute_reply.started": "2022-02-26T15:03:34.730731Z"
    }
   },
   "outputs": [],
   "source": [
    "fig = px.line(df_sales, x='date', y=\"item_total\", title = 'Sales over the period')\n",
    "fig.show()"
   ]
  },
  {
   "cell_type": "markdown",
   "metadata": {},
   "source": [
    "There hasn't been any significant growth over the period. December month saw the maximum sales with a couple of breakthroughs. "
   ]
  },
  {
   "cell_type": "code",
   "execution_count": null,
   "metadata": {
    "execution": {
     "iopub.execute_input": "2022-02-26T15:03:35.130591Z",
     "iopub.status.busy": "2022-02-26T15:03:35.129703Z",
     "iopub.status.idle": "2022-02-26T15:03:35.143025Z",
     "shell.execute_reply": "2022-02-26T15:03:35.142064Z",
     "shell.execute_reply.started": "2022-02-26T15:03:35.130546Z"
    }
   },
   "outputs": [],
   "source": [
    "df_days = df[['year', 'month_name', 'day_name', 'item_total']].groupby(['year', 'month_name', 'day_name']).sum().reset_index()\n",
    "# df_days.sort_values(by=['year', 'month_name'])"
   ]
  },
  {
   "cell_type": "code",
   "execution_count": null,
   "metadata": {
    "execution": {
     "iopub.execute_input": "2022-02-26T15:03:35.147033Z",
     "iopub.status.busy": "2022-02-26T15:03:35.146770Z",
     "iopub.status.idle": "2022-02-26T15:03:35.275051Z",
     "shell.execute_reply": "2022-02-26T15:03:35.273780Z",
     "shell.execute_reply.started": "2022-02-26T15:03:35.146989Z"
    }
   },
   "outputs": [],
   "source": [
    "fig = px.bar(df_days, x=\"month_name\", y=\"item_total\", color=\"day_name\", title=\"Month-wise Sales\")\n",
    "fig.show()"
   ]
  },
  {
   "cell_type": "code",
   "execution_count": null,
   "metadata": {
    "execution": {
     "iopub.execute_input": "2022-02-26T15:03:35.276710Z",
     "iopub.status.busy": "2022-02-26T15:03:35.276412Z",
     "iopub.status.idle": "2022-02-26T15:03:35.289253Z",
     "shell.execute_reply": "2022-02-26T15:03:35.288264Z",
     "shell.execute_reply.started": "2022-02-26T15:03:35.276670Z"
    }
   },
   "outputs": [],
   "source": [
    "df_places = df[['ship_state', 'ship_city', 'item_total']].groupby(['ship_state', 'ship_city']).sum().reset_index()\n",
    "df_places.sort_values(by='item_total', ascending=False, inplace=True)"
   ]
  },
  {
   "cell_type": "code",
   "execution_count": null,
   "metadata": {
    "execution": {
     "iopub.execute_input": "2022-02-26T15:03:35.291734Z",
     "iopub.status.busy": "2022-02-26T15:03:35.291262Z",
     "iopub.status.idle": "2022-02-26T15:03:35.427282Z",
     "shell.execute_reply": "2022-02-26T15:03:35.426171Z",
     "shell.execute_reply.started": "2022-02-26T15:03:35.291684Z"
    }
   },
   "outputs": [],
   "source": [
    "fig = px.sunburst(data_frame=df_places, path=['ship_state', 'ship_city'], values='item_total', title='Region-wise orders')\n",
    "fig.show()"
   ]
  },
  {
   "cell_type": "code",
   "execution_count": null,
   "metadata": {
    "execution": {
     "iopub.execute_input": "2022-02-26T15:03:35.428991Z",
     "iopub.status.busy": "2022-02-26T15:03:35.428758Z",
     "iopub.status.idle": "2022-02-26T15:03:35.510110Z",
     "shell.execute_reply": "2022-02-26T15:03:35.509368Z",
     "shell.execute_reply.started": "2022-02-26T15:03:35.428965Z"
    }
   },
   "outputs": [],
   "source": [
    "top_cities = df.groupby('ship_city').size().reset_index().rename(columns={0: 'Total'}).sort_values('Total', ascending=False).head()\n",
    "fig = px.pie(top_cities, values='Total', names='ship_city', color_discrete_sequence=px.colors.sequential.RdBu, title='Top 5 ordering cities')\n",
    "fig.show()"
   ]
  },
  {
   "cell_type": "code",
   "execution_count": null,
   "metadata": {
    "execution": {
     "iopub.execute_input": "2022-02-26T15:03:35.511858Z",
     "iopub.status.busy": "2022-02-26T15:03:35.511365Z",
     "iopub.status.idle": "2022-02-26T15:03:35.584863Z",
     "shell.execute_reply": "2022-02-26T15:03:35.583876Z",
     "shell.execute_reply.started": "2022-02-26T15:03:35.511817Z"
    }
   },
   "outputs": [],
   "source": [
    "top_cities = df.groupby('sku').size().reset_index().rename(columns={0: 'Total'}).sort_values('Total', ascending=False).head()\n",
    "fig = px.pie(top_cities, values='Total', names='sku', color_discrete_sequence=px.colors.sequential.BuGn_r, title='Top 5 Products')\n",
    "fig.show()"
   ]
  },
  {
   "cell_type": "code",
   "execution_count": null,
   "metadata": {
    "execution": {
     "iopub.execute_input": "2022-02-26T15:03:35.588951Z",
     "iopub.status.busy": "2022-02-26T15:03:35.588707Z",
     "iopub.status.idle": "2022-02-26T15:03:35.597693Z",
     "shell.execute_reply": "2022-02-26T15:03:35.596373Z",
     "shell.execute_reply.started": "2022-02-26T15:03:35.588913Z"
    }
   },
   "outputs": [],
   "source": [
    "df['order_status'].value_counts()"
   ]
  },
  {
   "cell_type": "code",
   "execution_count": null,
   "metadata": {
    "execution": {
     "iopub.execute_input": "2022-02-26T15:03:35.600062Z",
     "iopub.status.busy": "2022-02-26T15:03:35.599539Z",
     "iopub.status.idle": "2022-02-26T15:03:35.697172Z",
     "shell.execute_reply": "2022-02-26T15:03:35.696270Z",
     "shell.execute_reply.started": "2022-02-26T15:03:35.600000Z"
    }
   },
   "outputs": [],
   "source": [
    "df_status = df[['order_status', 'item_total']]\n",
    "fig = px.bar(data_frame=df_status, x='order_status', y='item_total', color='order_status', title='Success rate of orders')\n",
    "fig.show()"
   ]
  },
  {
   "cell_type": "markdown",
   "metadata": {},
   "source": [
    "From the above we can find the order value of each of success and return orders"
   ]
  },
  {
   "cell_type": "code",
   "execution_count": null,
   "metadata": {
    "execution": {
     "iopub.execute_input": "2022-02-26T15:03:35.698621Z",
     "iopub.status.busy": "2022-02-26T15:03:35.698372Z",
     "iopub.status.idle": "2022-02-26T15:03:35.705423Z",
     "shell.execute_reply": "2022-02-26T15:03:35.704412Z",
     "shell.execute_reply.started": "2022-02-26T15:03:35.698588Z"
    }
   },
   "outputs": [],
   "source": [
    "df['description'] = df['description'].apply(lambda x: x.replace('|', ''))"
   ]
  },
  {
   "cell_type": "code",
   "execution_count": null,
   "metadata": {
    "execution": {
     "iopub.execute_input": "2022-02-26T15:03:35.707323Z",
     "iopub.status.busy": "2022-02-26T15:03:35.707048Z",
     "iopub.status.idle": "2022-02-26T15:03:35.722041Z",
     "shell.execute_reply": "2022-02-26T15:03:35.721388Z",
     "shell.execute_reply.started": "2022-02-26T15:03:35.707285Z"
    }
   },
   "outputs": [],
   "source": [
    "stop_words = stopwords.words('english')\n",
    "stop_words.extend(['Pure', 'Leather', 'Shantiniketan', 'with', 'clean_dedsc', 'phone', 'for', 'and', 'print', 'block', 'dtype'])"
   ]
  },
  {
   "cell_type": "code",
   "execution_count": null,
   "metadata": {
    "execution": {
     "iopub.execute_input": "2022-02-26T15:03:35.723677Z",
     "iopub.status.busy": "2022-02-26T15:03:35.723225Z",
     "iopub.status.idle": "2022-02-26T15:03:35.729401Z",
     "shell.execute_reply": "2022-02-26T15:03:35.728295Z",
     "shell.execute_reply.started": "2022-02-26T15:03:35.723644Z"
    }
   },
   "outputs": [],
   "source": [
    "# Remove stop words and remove words with 2 or less characters\n",
    "def preprocess(text):\n",
    "    result = []\n",
    "    for token in gensim.utils.simple_preprocess(text) :\n",
    "        if token not in gensim.parsing.preprocessing.STOPWORDS and len(token) > 2 and token not in stop_words:\n",
    "            result.append(token)\n",
    "            \n",
    "    return ' '.join(result)"
   ]
  },
  {
   "cell_type": "code",
   "execution_count": null,
   "metadata": {
    "execution": {
     "iopub.execute_input": "2022-02-26T15:03:35.731116Z",
     "iopub.status.busy": "2022-02-26T15:03:35.730705Z",
     "iopub.status.idle": "2022-02-26T15:03:35.767998Z",
     "shell.execute_reply": "2022-02-26T15:03:35.767068Z",
     "shell.execute_reply.started": "2022-02-26T15:03:35.731082Z"
    }
   },
   "outputs": [],
   "source": [
    "# cleaned data\n",
    "df['clean_desc'] = df['description'].apply(preprocess)"
   ]
  },
  {
   "cell_type": "code",
   "execution_count": null,
   "metadata": {
    "execution": {
     "iopub.execute_input": "2022-02-26T15:03:35.769946Z",
     "iopub.status.busy": "2022-02-26T15:03:35.769362Z",
     "iopub.status.idle": "2022-02-26T15:03:37.226167Z",
     "shell.execute_reply": "2022-02-26T15:03:37.224821Z",
     "shell.execute_reply.started": "2022-02-26T15:03:35.769912Z"
    }
   },
   "outputs": [],
   "source": [
    "plt.figure(figsize=(15,10))\n",
    "wc = WordCloud(max_words=2000, width=1600, height=800, stopwords=stop_words).generate(str(df[df['order_status']=='Delivered to buyer'].clean_desc))\n",
    "plt.title('Most Popular words', fontsize=20)\n",
    "plt.imshow(wc)"
   ]
  },
  {
   "cell_type": "markdown",
   "metadata": {},
   "source": [
    "## Conclusions"
   ]
  },
  {
   "cell_type": "markdown",
   "metadata": {},
   "source": [
    "We have extracted quite a few key inferences:\n",
    "   - The dataset came with some missing values in 2 of its features\n",
    "   - Order return rates are higher in COD type orders\n",
    "   - The sales has been stagnant throughout with few breakthroughs in December \n",
    "   - We visualized the sales across the months grouped by day of week to find that Sundays and Wednesdays dominate over the sales whereas the least contributor turned out to be the Saturdays\n",
    "   - We saw the region wise order amounts\n",
    "   - Top ordering cities are: Mumbai, Kolkata, Bangalore, Chennai and Pune\n",
    "   - We identified the top selling products\n",
    "   - The Barplot of order status tells us that there is less than 10% of return orders\n",
    "   - In the word cloud we see which are the most popular categories among the customers"
   ]
  },
  {
   "cell_type": "markdown",
   "metadata": {},
   "source": [
    "**Further Analysis in progress**"
   ]
  }
 ],
 "metadata": {
  "kernelspec": {
   "display_name": "Python 3 (ipykernel)",
   "language": "python",
   "name": "python3"
  },
  "language_info": {
   "codemirror_mode": {
    "name": "ipython",
    "version": 3
   },
   "file_extension": ".py",
   "mimetype": "text/x-python",
   "name": "python",
   "nbconvert_exporter": "python",
   "pygments_lexer": "ipython3",
   "version": "3.9.12"
  }
 },
 "nbformat": 4,
 "nbformat_minor": 4
}
